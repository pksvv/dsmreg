{
 "cells": [
  {
   "cell_type": "markdown",
   "metadata": {},
   "source": [
    "#### Regularization is a technique that adds penalty as the model complexity increases.\n",
    "\n",
    "\n",
    "* When model complexity increases, it leads to overfitting.\n",
    "\n",
    "\n",
    "* Overfitting happens when model learns signal as well as noise.\n",
    "\n",
    "\n",
    "* So an overfit model will always perform well on the training data but it will perform bad on testing and actual data.\n",
    "\n",
    "\n",
    "* In order to create less complex (parsimonius) model, we need to employ regularization techniques:\n",
    "    1. L1-Regularization or Lasso\n",
    "    2. L2-Regularization or Ridge\n",
    "    3. Elasticnet Regularization - combination of Lasso and Ridge"
   ]
  },
  {
   "cell_type": "markdown",
   "metadata": {},
   "source": [
    "#### Building a model to predict unemployment level in an economy"
   ]
  },
  {
   "cell_type": "markdown",
   "metadata": {},
   "source": [
    "#### Import Libraries"
   ]
  },
  {
   "cell_type": "code",
   "execution_count": 1,
   "metadata": {},
   "outputs": [],
   "source": [
    "import pandas as pd\n",
    "import numpy as np\n",
    "from sklearn.model_selection import train_test_split\n",
    "from sklearn.linear_model import LinearRegression, Ridge,Lasso,ElasticNet\n",
    "from sklearn.metrics import mean_absolute_error,mean_squared_error,r2_score"
   ]
  },
  {
   "cell_type": "code",
   "execution_count": 2,
   "metadata": {},
   "outputs": [],
   "source": [
    "df = pd.read_csv('dataset/economics.csv')"
   ]
  },
  {
   "cell_type": "code",
   "execution_count": 3,
   "metadata": {},
   "outputs": [
    {
     "data": {
      "text/html": [
       "<div>\n",
       "<style scoped>\n",
       "    .dataframe tbody tr th:only-of-type {\n",
       "        vertical-align: middle;\n",
       "    }\n",
       "\n",
       "    .dataframe tbody tr th {\n",
       "        vertical-align: top;\n",
       "    }\n",
       "\n",
       "    .dataframe thead th {\n",
       "        text-align: right;\n",
       "    }\n",
       "</style>\n",
       "<table border=\"1\" class=\"dataframe\">\n",
       "  <thead>\n",
       "    <tr style=\"text-align: right;\">\n",
       "      <th></th>\n",
       "      <th>date</th>\n",
       "      <th>pce</th>\n",
       "      <th>pop</th>\n",
       "      <th>psavert</th>\n",
       "      <th>uempmed</th>\n",
       "      <th>unemploy</th>\n",
       "    </tr>\n",
       "  </thead>\n",
       "  <tbody>\n",
       "    <tr>\n",
       "      <th>0</th>\n",
       "      <td>1967-07-01</td>\n",
       "      <td>507.4</td>\n",
       "      <td>198712</td>\n",
       "      <td>12.5</td>\n",
       "      <td>4.5</td>\n",
       "      <td>2944</td>\n",
       "    </tr>\n",
       "    <tr>\n",
       "      <th>1</th>\n",
       "      <td>1967-08-01</td>\n",
       "      <td>510.5</td>\n",
       "      <td>198911</td>\n",
       "      <td>12.5</td>\n",
       "      <td>4.7</td>\n",
       "      <td>2945</td>\n",
       "    </tr>\n",
       "    <tr>\n",
       "      <th>2</th>\n",
       "      <td>1967-09-01</td>\n",
       "      <td>516.3</td>\n",
       "      <td>199113</td>\n",
       "      <td>11.7</td>\n",
       "      <td>4.6</td>\n",
       "      <td>2958</td>\n",
       "    </tr>\n",
       "    <tr>\n",
       "      <th>3</th>\n",
       "      <td>1967-10-01</td>\n",
       "      <td>512.9</td>\n",
       "      <td>199311</td>\n",
       "      <td>12.5</td>\n",
       "      <td>4.9</td>\n",
       "      <td>3143</td>\n",
       "    </tr>\n",
       "    <tr>\n",
       "      <th>4</th>\n",
       "      <td>1967-11-01</td>\n",
       "      <td>518.1</td>\n",
       "      <td>199498</td>\n",
       "      <td>12.5</td>\n",
       "      <td>4.7</td>\n",
       "      <td>3066</td>\n",
       "    </tr>\n",
       "  </tbody>\n",
       "</table>\n",
       "</div>"
      ],
      "text/plain": [
       "         date    pce     pop  psavert  uempmed  unemploy\n",
       "0  1967-07-01  507.4  198712     12.5      4.5      2944\n",
       "1  1967-08-01  510.5  198911     12.5      4.7      2945\n",
       "2  1967-09-01  516.3  199113     11.7      4.6      2958\n",
       "3  1967-10-01  512.9  199311     12.5      4.9      3143\n",
       "4  1967-11-01  518.1  199498     12.5      4.7      3066"
      ]
     },
     "execution_count": 3,
     "metadata": {},
     "output_type": "execute_result"
    }
   ],
   "source": [
    "df.head()"
   ]
  },
  {
   "cell_type": "markdown",
   "metadata": {},
   "source": [
    "#### Data dictionary"
   ]
  },
  {
   "cell_type": "markdown",
   "metadata": {},
   "source": [
    "* psavert - personal savings rate\n",
    "\n",
    "\n",
    "* pce - personal consumption expenditure, USD billions\n",
    "\n",
    "\n",
    "* uempmed - median duration of unemployment, weeks\n",
    "\n",
    "\n",
    "* unemploy - number of unemployed (thousands)\n",
    "\n",
    "\n",
    "* pop - population in thousands"
   ]
  },
  {
   "cell_type": "code",
   "execution_count": 4,
   "metadata": {},
   "outputs": [
    {
     "name": "stdout",
     "output_type": "stream",
     "text": [
      "<class 'pandas.core.frame.DataFrame'>\n",
      "RangeIndex: 574 entries, 0 to 573\n",
      "Data columns (total 6 columns):\n",
      " #   Column    Non-Null Count  Dtype  \n",
      "---  ------    --------------  -----  \n",
      " 0   date      574 non-null    object \n",
      " 1   pce       574 non-null    float64\n",
      " 2   pop       574 non-null    int64  \n",
      " 3   psavert   574 non-null    float64\n",
      " 4   uempmed   574 non-null    float64\n",
      " 5   unemploy  574 non-null    int64  \n",
      "dtypes: float64(3), int64(2), object(1)\n",
      "memory usage: 27.0+ KB\n"
     ]
    }
   ],
   "source": [
    "df.info()"
   ]
  },
  {
   "cell_type": "code",
   "execution_count": 5,
   "metadata": {},
   "outputs": [
    {
     "data": {
      "text/html": [
       "<div>\n",
       "<style scoped>\n",
       "    .dataframe tbody tr th:only-of-type {\n",
       "        vertical-align: middle;\n",
       "    }\n",
       "\n",
       "    .dataframe tbody tr th {\n",
       "        vertical-align: top;\n",
       "    }\n",
       "\n",
       "    .dataframe thead th {\n",
       "        text-align: right;\n",
       "    }\n",
       "</style>\n",
       "<table border=\"1\" class=\"dataframe\">\n",
       "  <thead>\n",
       "    <tr style=\"text-align: right;\">\n",
       "      <th></th>\n",
       "      <th>pce</th>\n",
       "      <th>pop</th>\n",
       "      <th>psavert</th>\n",
       "      <th>uempmed</th>\n",
       "      <th>unemploy</th>\n",
       "    </tr>\n",
       "  </thead>\n",
       "  <tbody>\n",
       "    <tr>\n",
       "      <th>count</th>\n",
       "      <td>574.000000</td>\n",
       "      <td>574.000000</td>\n",
       "      <td>574.000000</td>\n",
       "      <td>574.000000</td>\n",
       "      <td>574.000000</td>\n",
       "    </tr>\n",
       "    <tr>\n",
       "      <th>mean</th>\n",
       "      <td>4843.510453</td>\n",
       "      <td>257189.381533</td>\n",
       "      <td>7.936585</td>\n",
       "      <td>8.610105</td>\n",
       "      <td>7771.557491</td>\n",
       "    </tr>\n",
       "    <tr>\n",
       "      <th>std</th>\n",
       "      <td>3579.287206</td>\n",
       "      <td>36730.801593</td>\n",
       "      <td>3.124394</td>\n",
       "      <td>4.108112</td>\n",
       "      <td>2641.960571</td>\n",
       "    </tr>\n",
       "    <tr>\n",
       "      <th>min</th>\n",
       "      <td>507.400000</td>\n",
       "      <td>198712.000000</td>\n",
       "      <td>1.900000</td>\n",
       "      <td>4.000000</td>\n",
       "      <td>2685.000000</td>\n",
       "    </tr>\n",
       "    <tr>\n",
       "      <th>25%</th>\n",
       "      <td>1582.225000</td>\n",
       "      <td>224896.000000</td>\n",
       "      <td>5.500000</td>\n",
       "      <td>6.000000</td>\n",
       "      <td>6284.000000</td>\n",
       "    </tr>\n",
       "    <tr>\n",
       "      <th>50%</th>\n",
       "      <td>3953.550000</td>\n",
       "      <td>253060.000000</td>\n",
       "      <td>7.700000</td>\n",
       "      <td>7.500000</td>\n",
       "      <td>7494.000000</td>\n",
       "    </tr>\n",
       "    <tr>\n",
       "      <th>75%</th>\n",
       "      <td>7667.325000</td>\n",
       "      <td>290290.750000</td>\n",
       "      <td>10.500000</td>\n",
       "      <td>9.100000</td>\n",
       "      <td>8691.000000</td>\n",
       "    </tr>\n",
       "    <tr>\n",
       "      <th>max</th>\n",
       "      <td>12161.500000</td>\n",
       "      <td>320887.000000</td>\n",
       "      <td>17.000000</td>\n",
       "      <td>25.200000</td>\n",
       "      <td>15352.000000</td>\n",
       "    </tr>\n",
       "  </tbody>\n",
       "</table>\n",
       "</div>"
      ],
      "text/plain": [
       "                pce            pop     psavert     uempmed      unemploy\n",
       "count    574.000000     574.000000  574.000000  574.000000    574.000000\n",
       "mean    4843.510453  257189.381533    7.936585    8.610105   7771.557491\n",
       "std     3579.287206   36730.801593    3.124394    4.108112   2641.960571\n",
       "min      507.400000  198712.000000    1.900000    4.000000   2685.000000\n",
       "25%     1582.225000  224896.000000    5.500000    6.000000   6284.000000\n",
       "50%     3953.550000  253060.000000    7.700000    7.500000   7494.000000\n",
       "75%     7667.325000  290290.750000   10.500000    9.100000   8691.000000\n",
       "max    12161.500000  320887.000000   17.000000   25.200000  15352.000000"
      ]
     },
     "execution_count": 5,
     "metadata": {},
     "output_type": "execute_result"
    }
   ],
   "source": [
    "df.describe()"
   ]
  },
  {
   "cell_type": "code",
   "execution_count": 6,
   "metadata": {},
   "outputs": [],
   "source": [
    "target = df['unemploy']\n",
    "\n",
    "features = ['pce', 'pop', 'psavert', 'uempmed']"
   ]
  },
  {
   "cell_type": "code",
   "execution_count": 9,
   "metadata": {},
   "outputs": [],
   "source": [
    "df[features] = df[features]/df[features].max() # minmax scaler"
   ]
  },
  {
   "cell_type": "code",
   "execution_count": 10,
   "metadata": {},
   "outputs": [
    {
     "data": {
      "text/html": [
       "<div>\n",
       "<style scoped>\n",
       "    .dataframe tbody tr th:only-of-type {\n",
       "        vertical-align: middle;\n",
       "    }\n",
       "\n",
       "    .dataframe tbody tr th {\n",
       "        vertical-align: top;\n",
       "    }\n",
       "\n",
       "    .dataframe thead th {\n",
       "        text-align: right;\n",
       "    }\n",
       "</style>\n",
       "<table border=\"1\" class=\"dataframe\">\n",
       "  <thead>\n",
       "    <tr style=\"text-align: right;\">\n",
       "      <th></th>\n",
       "      <th>pce</th>\n",
       "      <th>pop</th>\n",
       "      <th>psavert</th>\n",
       "      <th>uempmed</th>\n",
       "      <th>unemploy</th>\n",
       "    </tr>\n",
       "  </thead>\n",
       "  <tbody>\n",
       "    <tr>\n",
       "      <th>count</th>\n",
       "      <td>574.000000</td>\n",
       "      <td>574.000000</td>\n",
       "      <td>574.000000</td>\n",
       "      <td>574.000000</td>\n",
       "      <td>574.000000</td>\n",
       "    </tr>\n",
       "    <tr>\n",
       "      <th>mean</th>\n",
       "      <td>0.398266</td>\n",
       "      <td>0.801495</td>\n",
       "      <td>0.466858</td>\n",
       "      <td>0.341671</td>\n",
       "      <td>7771.557491</td>\n",
       "    </tr>\n",
       "    <tr>\n",
       "      <th>std</th>\n",
       "      <td>0.294313</td>\n",
       "      <td>0.114466</td>\n",
       "      <td>0.183788</td>\n",
       "      <td>0.163020</td>\n",
       "      <td>2641.960571</td>\n",
       "    </tr>\n",
       "    <tr>\n",
       "      <th>min</th>\n",
       "      <td>0.041722</td>\n",
       "      <td>0.619258</td>\n",
       "      <td>0.111765</td>\n",
       "      <td>0.158730</td>\n",
       "      <td>2685.000000</td>\n",
       "    </tr>\n",
       "    <tr>\n",
       "      <th>25%</th>\n",
       "      <td>0.130101</td>\n",
       "      <td>0.700857</td>\n",
       "      <td>0.323529</td>\n",
       "      <td>0.238095</td>\n",
       "      <td>6284.000000</td>\n",
       "    </tr>\n",
       "    <tr>\n",
       "      <th>50%</th>\n",
       "      <td>0.325087</td>\n",
       "      <td>0.788627</td>\n",
       "      <td>0.452941</td>\n",
       "      <td>0.297619</td>\n",
       "      <td>7494.000000</td>\n",
       "    </tr>\n",
       "    <tr>\n",
       "      <th>75%</th>\n",
       "      <td>0.630459</td>\n",
       "      <td>0.904651</td>\n",
       "      <td>0.617647</td>\n",
       "      <td>0.361111</td>\n",
       "      <td>8691.000000</td>\n",
       "    </tr>\n",
       "    <tr>\n",
       "      <th>max</th>\n",
       "      <td>1.000000</td>\n",
       "      <td>1.000000</td>\n",
       "      <td>1.000000</td>\n",
       "      <td>1.000000</td>\n",
       "      <td>15352.000000</td>\n",
       "    </tr>\n",
       "  </tbody>\n",
       "</table>\n",
       "</div>"
      ],
      "text/plain": [
       "              pce         pop     psavert     uempmed      unemploy\n",
       "count  574.000000  574.000000  574.000000  574.000000    574.000000\n",
       "mean     0.398266    0.801495    0.466858    0.341671   7771.557491\n",
       "std      0.294313    0.114466    0.183788    0.163020   2641.960571\n",
       "min      0.041722    0.619258    0.111765    0.158730   2685.000000\n",
       "25%      0.130101    0.700857    0.323529    0.238095   6284.000000\n",
       "50%      0.325087    0.788627    0.452941    0.297619   7494.000000\n",
       "75%      0.630459    0.904651    0.617647    0.361111   8691.000000\n",
       "max      1.000000    1.000000    1.000000    1.000000  15352.000000"
      ]
     },
     "execution_count": 10,
     "metadata": {},
     "output_type": "execute_result"
    }
   ],
   "source": [
    "df.describe()"
   ]
  },
  {
   "cell_type": "code",
   "execution_count": 13,
   "metadata": {},
   "outputs": [
    {
     "name": "stdout",
     "output_type": "stream",
     "text": [
      "X Shape : (574, 4)\n",
      "\n",
      "X_train Shape : (459, 4)\n",
      "\n",
      "X_test Shape : (115, 4)\n"
     ]
    }
   ],
   "source": [
    "X = df[features]\n",
    "\n",
    "y = target\n",
    "\n",
    "X_train, X_test, y_train, y_test = train_test_split(X,y,test_size=0.2,random_state=42)\n",
    "\n",
    "print(f'X Shape : {X.shape}\\n\\nX_train Shape : {X_train.shape}\\n\\nX_test Shape : {X_test.shape}')"
   ]
  },
  {
   "cell_type": "markdown",
   "metadata": {},
   "source": [
    "#### Build a linear regression model"
   ]
  },
  {
   "cell_type": "code",
   "execution_count": 14,
   "metadata": {},
   "outputs": [],
   "source": [
    "lm = LinearRegression()"
   ]
  },
  {
   "cell_type": "code",
   "execution_count": 15,
   "metadata": {},
   "outputs": [
    {
     "data": {
      "text/plain": [
       "LinearRegression()"
      ]
     },
     "execution_count": 15,
     "metadata": {},
     "output_type": "execute_result"
    }
   ],
   "source": [
    "lm.fit(X_train,y_train)"
   ]
  },
  {
   "cell_type": "markdown",
   "metadata": {},
   "source": [
    "##### Training and Testing Accuracy"
   ]
  },
  {
   "cell_type": "code",
   "execution_count": 18,
   "metadata": {},
   "outputs": [
    {
     "name": "stdout",
     "output_type": "stream",
     "text": [
      "Training Accuracy\n",
      "RMSE : 985.0285748757371\n",
      "R-Squared : 0.8510879906820179\n",
      "\n",
      "\n",
      "Testing Accuracy\n",
      "RMSE : 1001.9163075939397\n",
      "R-Squared : 0.8854186379903031\n",
      "\n",
      "\n",
      "Coefficients: [-19146.90350229  56970.37011106   5107.93739571  13551.16810809]\n"
     ]
    }
   ],
   "source": [
    "y_pred_train = lm.predict(X_train)\n",
    "\n",
    "print('Training Accuracy')\n",
    "\n",
    "print(f'RMSE : {np.sqrt(mean_squared_error(y_train, y_pred_train))}')\n",
    "print(f'R-Squared : {r2_score(y_train, y_pred_train)}')\n",
    "\n",
    "print('\\n\\nTesting Accuracy')\n",
    "\n",
    "y_pred_test = lm.predict(X_test)\n",
    "\n",
    "print(f'RMSE : {np.sqrt(mean_squared_error(y_test, y_pred_test))}')\n",
    "print(f'R-Squared : {r2_score(y_test, y_pred_test)}')\n",
    "\n",
    "\n",
    "print(f'\\n\\nCoefficients: {lm.coef_}')"
   ]
  },
  {
   "cell_type": "markdown",
   "metadata": {},
   "source": [
    "### Regularization\n",
    "\n",
    "##### Ridge Regression \n",
    "\n",
    "* Extension of linear regression\n",
    "\n",
    "\n",
    "* In all regularization, we add a loss function\n",
    "\n",
    "\n",
    "* loss function is modified to minimize complexity of model\n",
    "\n",
    "\n",
    "* modification is done by introducing a penalty parameter, smoothing parameter, lambda\n",
    "\n",
    "\n",
    "* in ridge, smoothing parameter is sum of squared magnitude of coefficients\n",
    "\n",
    "\n",
    "**Loss Function = OLS + α * (sum of squared coefficient values)**\n",
    "\n",
    "\n",
    "* α - smoothing parameter\n",
    "    * if α = 0 then it becomes only OLS\n",
    "    * Low α leads to overfitting\n",
    "    * High α leads to underfitting"
   ]
  },
  {
   "cell_type": "code",
   "execution_count": 20,
   "metadata": {},
   "outputs": [
    {
     "name": "stdout",
     "output_type": "stream",
     "text": [
      "Training Accuracy\n",
      "RMSE : 988.4714111995353\n",
      "R-Squared : 0.8500452277864494\n",
      "\n",
      "\n",
      "Testing Accuracy\n",
      "RMSE : 999.568234828448\n",
      "R-Squared : 0.8859550702424106\n",
      "\n",
      "\n",
      "OLS Coefficients: [-19146.90350229  56970.37011106   5107.93739571  13551.16810809]\n",
      "\n",
      "\n",
      "Ridge Coefficients: [-17406.11927015  51531.47457744   4509.20141652  13654.41294602]\n"
     ]
    }
   ],
   "source": [
    "rr = Ridge(alpha=0.01)\n",
    "\n",
    "rr.fit(X_train, y_train)\n",
    "\n",
    "y_pred_train = rr.predict(X_train)\n",
    "\n",
    "print('Training Accuracy')\n",
    "\n",
    "print(f'RMSE : {np.sqrt(mean_squared_error(y_train, y_pred_train))}')\n",
    "print(f'R-Squared : {r2_score(y_train, y_pred_train)}')\n",
    "\n",
    "print('\\n\\nTesting Accuracy')\n",
    "\n",
    "y_pred_test = rr.predict(X_test)\n",
    "\n",
    "print(f'RMSE : {np.sqrt(mean_squared_error(y_test, y_pred_test))}')\n",
    "print(f'R-Squared : {r2_score(y_test, y_pred_test)}')\n",
    "\n",
    "print(f'\\n\\nOLS Coefficients: {lm.coef_}')\n",
    "print(f'\\n\\nRidge Coefficients: {rr.coef_}')"
   ]
  },
  {
   "cell_type": "markdown",
   "metadata": {},
   "source": [
    "#### Lasso Regression or L1-Norm\n",
    "\n",
    "Lasso - Least Absolute shrinkage and selection operator\n",
    "\n",
    "**Loss Function = OLS + α * (sum of absolute values of magnitude of coefficients)**\n"
   ]
  },
  {
   "cell_type": "code",
   "execution_count": 21,
   "metadata": {},
   "outputs": [
    {
     "data": {
      "text/plain": [
       "Lasso(alpha=0.01)"
      ]
     },
     "execution_count": 21,
     "metadata": {},
     "output_type": "execute_result"
    }
   ],
   "source": [
    "lasso = Lasso(alpha=0.01)\n",
    "\n",
    "lasso.fit(X_train,y_train)"
   ]
  },
  {
   "cell_type": "code",
   "execution_count": 23,
   "metadata": {},
   "outputs": [
    {
     "name": "stdout",
     "output_type": "stream",
     "text": [
      "Training Accuracy\n",
      "RMSE : 985.0290263432382\n",
      "R-Squared : 0.8510878541804994\n",
      "\n",
      "\n",
      "Testing Accuracy\n",
      "RMSE : 1001.864344384054\n",
      "R-Squared : 0.8854305229370176\n",
      "\n",
      "\n",
      "OLS Coefficients: [-19146.90350229  56970.37011106   5107.93739571  13551.16810809]\n",
      "\n",
      "\n",
      "Ridge Coefficients: [-17406.11927015  51531.47457744   4509.20141652  13654.41294602]\n",
      "\n",
      "\n",
      "Lasso Coefficients: [-19126.88512097  56908.65399987   5101.01103684  13551.65114574]\n"
     ]
    }
   ],
   "source": [
    "y_pred_train = lasso.predict(X_train)\n",
    "\n",
    "print('Training Accuracy')\n",
    "\n",
    "print(f'RMSE : {np.sqrt(mean_squared_error(y_train, y_pred_train))}')\n",
    "print(f'R-Squared : {r2_score(y_train, y_pred_train)}')\n",
    "\n",
    "print('\\n\\nTesting Accuracy')\n",
    "\n",
    "y_pred_test = lasso.predict(X_test)\n",
    "\n",
    "print(f'RMSE : {np.sqrt(mean_squared_error(y_test, y_pred_test))}')\n",
    "print(f'R-Squared : {r2_score(y_test, y_pred_test)}')\n",
    "\n",
    "print(f'\\n\\nOLS Coefficients: {lm.coef_}')\n",
    "print(f'\\n\\nRidge Coefficients: {rr.coef_}')\n",
    "print(f'\\n\\nLasso Coefficients: {lasso.coef_}')"
   ]
  },
  {
   "cell_type": "markdown",
   "metadata": {},
   "source": [
    "#### Elasticnet Regression\n",
    "\n",
    "Combines both L1 and L2 "
   ]
  },
  {
   "cell_type": "code",
   "execution_count": 24,
   "metadata": {},
   "outputs": [
    {
     "data": {
      "text/plain": [
       "ElasticNet(alpha=0.01)"
      ]
     },
     "execution_count": 24,
     "metadata": {},
     "output_type": "execute_result"
    }
   ],
   "source": [
    "en = ElasticNet(alpha=0.01)\n",
    "en.fit(X_train,y_train)"
   ]
  },
  {
   "cell_type": "code",
   "execution_count": 25,
   "metadata": {},
   "outputs": [
    {
     "name": "stdout",
     "output_type": "stream",
     "text": [
      "Training Accuracy\n",
      "RMSE : 1367.644177780906\n",
      "R-Squared : 0.7129362807991237\n",
      "\n",
      "\n",
      "Testing Accuracy\n",
      "RMSE : 1396.7830672257037\n",
      "R-Squared : 0.7773057453745247\n",
      "\n",
      "\n",
      "OLS Coefficients: [-19146.90350229  56970.37011106   5107.93739571  13551.16810809]\n",
      "\n",
      "\n",
      "Ridge Coefficients: [-17406.11927015  51531.47457744   4509.20141652  13654.41294602]\n",
      "\n",
      "\n",
      "Lasso Coefficients: [-19126.88512097  56908.65399987   5101.01103684  13551.65114574]\n",
      "\n",
      "\n",
      "Elasticnet Coefficients: [ 989.44297232 2928.64351627 1271.86008179 9798.97587465]\n"
     ]
    }
   ],
   "source": [
    "y_pred_train = en.predict(X_train)\n",
    "\n",
    "print('Training Accuracy')\n",
    "\n",
    "print(f'RMSE : {np.sqrt(mean_squared_error(y_train, y_pred_train))}')\n",
    "print(f'R-Squared : {r2_score(y_train, y_pred_train)}')\n",
    "\n",
    "print('\\n\\nTesting Accuracy')\n",
    "\n",
    "y_pred_test = en.predict(X_test)\n",
    "\n",
    "print(f'RMSE : {np.sqrt(mean_squared_error(y_test, y_pred_test))}')\n",
    "print(f'R-Squared : {r2_score(y_test, y_pred_test)}')\n",
    "\n",
    "print(f'\\n\\nOLS Coefficients: {lm.coef_}')\n",
    "print(f'\\n\\nRidge Coefficients: {rr.coef_}')\n",
    "print(f'\\n\\nLasso Coefficients: {lasso.coef_}')\n",
    "print(f'\\n\\nElasticnet Coefficients: {en.coef_}')"
   ]
  },
  {
   "cell_type": "markdown",
   "metadata": {},
   "source": [
    "* Ridge works well when there are many large parameters of similar value.\n",
    "\n",
    "\n",
    "* Lasso works well when there are small number of significant parameters and coefficients of others are close to zero."
   ]
  },
  {
   "cell_type": "markdown",
   "metadata": {},
   "source": [
    "### How to select value of α"
   ]
  },
  {
   "cell_type": "code",
   "execution_count": 30,
   "metadata": {},
   "outputs": [
    {
     "name": "stdout",
     "output_type": "stream",
     "text": [
      "Training Accuracy\n",
      "RMSE : 985.0698654882659\n",
      "R-Squared : 0.851075506177294\n",
      "\n",
      "\n",
      "Testing Accuracy\n",
      "RMSE : 1001.3938353306316\n",
      "R-Squared : 0.8855381089959089\n",
      "\n",
      "\n",
      "OLS Coefficients: [-19146.90350229  56970.37011106   5107.93739571  13551.16810809]\n",
      "\n",
      "\n",
      "Ridge Coefficients: [-17406.11927015  51531.47457744   4509.20141652  13654.41294602]\n",
      "\n",
      "\n",
      "Lasso Coefficients: [-19126.88512097  56908.65399987   5101.01103684  13551.65114574]\n",
      "\n",
      "\n",
      "Elasticnet Coefficients: [ 989.44297232 2928.64351627 1271.86008179 9798.97587465]\n",
      "\n",
      "\n",
      "Ridge CV Coefficients: [-18956.71195945  56375.07461522   5042.08225953  13562.90637798]\n",
      "\n",
      "\n",
      "Best Value of Alpha = 0.001\n"
     ]
    }
   ],
   "source": [
    "from sklearn.linear_model import RidgeCV # Ridge with Cross Validation\n",
    "\n",
    "\n",
    "rrcv = RidgeCV(alphas=[0.001,0.01,0.1,1,10])\n",
    "\n",
    "rrcv.fit(X_train,y_train)\n",
    "\n",
    "y_pred_train = rrcv.predict(X_train)\n",
    "\n",
    "print('Training Accuracy')\n",
    "\n",
    "print(f'RMSE : {np.sqrt(mean_squared_error(y_train, y_pred_train))}')\n",
    "print(f'R-Squared : {r2_score(y_train, y_pred_train)}')\n",
    "\n",
    "print('\\n\\nTesting Accuracy')\n",
    "\n",
    "y_pred_test = rrcv.predict(X_test)\n",
    "\n",
    "print(f'RMSE : {np.sqrt(mean_squared_error(y_test, y_pred_test))}')\n",
    "print(f'R-Squared : {r2_score(y_test, y_pred_test)}')\n",
    "\n",
    "print(f'\\n\\nOLS Coefficients: {lm.coef_}')\n",
    "print(f'\\n\\nRidge Coefficients: {rr.coef_}')\n",
    "print(f'\\n\\nLasso Coefficients: {lasso.coef_}')\n",
    "print(f'\\n\\nElasticnet Coefficients: {en.coef_}')\n",
    "print(f'\\n\\nRidge CV Coefficients: {rrcv.coef_}')\n",
    "\n",
    "print(f'\\n\\nBest Value of Alpha = {rrcv.alpha_}')"
   ]
  },
  {
   "cell_type": "markdown",
   "metadata": {},
   "source": [
    "# Great Job !"
   ]
  }
 ],
 "metadata": {
  "kernelspec": {
   "display_name": "Python 3",
   "language": "python",
   "name": "python3"
  },
  "language_info": {
   "codemirror_mode": {
    "name": "ipython",
    "version": 3
   },
   "file_extension": ".py",
   "mimetype": "text/x-python",
   "name": "python",
   "nbconvert_exporter": "python",
   "pygments_lexer": "ipython3",
   "version": "3.8.3"
  }
 },
 "nbformat": 4,
 "nbformat_minor": 4
}
