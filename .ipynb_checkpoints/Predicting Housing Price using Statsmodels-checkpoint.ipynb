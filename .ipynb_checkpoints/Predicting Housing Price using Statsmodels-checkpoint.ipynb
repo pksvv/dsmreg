{
 "cells": [
  {
   "cell_type": "markdown",
   "metadata": {},
   "source": [
    "**Linear Regression : is a model that predicts relationship of direct proportionality between dependent and predictor variables.**"
   ]
  },
  {
   "cell_type": "markdown",
   "metadata": {},
   "source": [
    "<img src=\"img/1.png\">"
   ]
  },
  {
   "cell_type": "markdown",
   "metadata": {},
   "source": [
    "#### Dataset\n",
    "\n",
    "##### Source : FRED (https://fred.stlouisfed.org/)\n",
    "\n",
    "* Target Variable : HPI or Housing Price Index \n",
    "    * It measures the prices changes of residential housing\n",
    "\n",
    "* Predictor Variables\n",
    "    * GDP\n",
    "    * Unemployment\n",
    "    * Interest Rates"
   ]
  },
  {
   "cell_type": "markdown",
   "metadata": {},
   "source": [
    "!pip install statsmodels"
   ]
  },
  {
   "cell_type": "markdown",
   "metadata": {},
   "source": [
    "#### Importing Libraries"
   ]
  },
  {
   "cell_type": "code",
   "execution_count": 2,
   "metadata": {},
   "outputs": [
    {
     "name": "stderr",
     "output_type": "stream",
     "text": [
      "<frozen importlib._bootstrap>:219: RuntimeWarning: numpy.ufunc size changed, may indicate binary incompatibility. Expected 192 from C header, got 216 from PyObject\n"
     ]
    }
   ],
   "source": [
    "import pandas as pd\n",
    "import numpy as np\n",
    "import matplotlib.pyplot as plt\n",
    "import seaborn as sns\n",
    "\n",
    "import statsmodels.api as sm\n",
    "from statsmodels.formula.api import ols\n",
    "from statsmodels.sandbox.regression.predstd import wls_prediction_std\n",
    "\n",
    "sns.set_style('darkgrid')\n",
    "%matplotlib inline"
   ]
  },
  {
   "cell_type": "markdown",
   "metadata": {},
   "source": [
    "#### Import Data"
   ]
  },
  {
   "cell_type": "code",
   "execution_count": 3,
   "metadata": {},
   "outputs": [],
   "source": [
    "hpi = pd.read_csv('dataset/monthly-hpi.csv')\n",
    "uemp = pd.read_csv('dataset/unemployment-macro.csv')\n",
    "ffr = pd.read_csv('dataset/fed_funds.csv')\n",
    "shiller = pd.read_csv('dataset/shiller.csv')\n",
    "gdp = pd.read_csv('dataset/gdp.csv')"
   ]
  },
  {
   "cell_type": "code",
   "execution_count": 4,
   "metadata": {},
   "outputs": [],
   "source": [
    "df = (shiller.merge(hpi,on='date')\n",
    "      .merge(uemp,on='date')\n",
    "      .merge(ffr,on='date')\n",
    "      .merge(gdp,on='date'))"
   ]
  },
  {
   "cell_type": "code",
   "execution_count": 10,
   "metadata": {
    "scrolled": true
   },
   "outputs": [
    {
     "data": {
      "text/html": [
       "<div>\n",
       "<style scoped>\n",
       "    .dataframe tbody tr th:only-of-type {\n",
       "        vertical-align: middle;\n",
       "    }\n",
       "\n",
       "    .dataframe tbody tr th {\n",
       "        vertical-align: top;\n",
       "    }\n",
       "\n",
       "    .dataframe thead th {\n",
       "        text-align: right;\n",
       "    }\n",
       "</style>\n",
       "<table border=\"1\" class=\"dataframe\">\n",
       "  <thead>\n",
       "    <tr style=\"text-align: right;\">\n",
       "      <th></th>\n",
       "      <th>date</th>\n",
       "      <th>total_expenditures</th>\n",
       "      <th>labor_force_pr</th>\n",
       "      <th>producer_price_index</th>\n",
       "      <th>gross_domestic_product</th>\n",
       "    </tr>\n",
       "  </thead>\n",
       "  <tbody>\n",
       "    <tr>\n",
       "      <th>0</th>\n",
       "      <td>2011-01-01</td>\n",
       "      <td>5766.7</td>\n",
       "      <td>64.2</td>\n",
       "      <td>192.7</td>\n",
       "      <td>14881.3</td>\n",
       "    </tr>\n",
       "    <tr>\n",
       "      <th>1</th>\n",
       "      <td>2011-04-01</td>\n",
       "      <td>5870.8</td>\n",
       "      <td>64.2</td>\n",
       "      <td>203.1</td>\n",
       "      <td>14989.6</td>\n",
       "    </tr>\n",
       "    <tr>\n",
       "      <th>2</th>\n",
       "      <td>2011-07-01</td>\n",
       "      <td>5802.6</td>\n",
       "      <td>64.0</td>\n",
       "      <td>204.6</td>\n",
       "      <td>15021.1</td>\n",
       "    </tr>\n",
       "    <tr>\n",
       "      <th>3</th>\n",
       "      <td>2011-10-01</td>\n",
       "      <td>5812.9</td>\n",
       "      <td>64.1</td>\n",
       "      <td>201.1</td>\n",
       "      <td>15190.3</td>\n",
       "    </tr>\n",
       "    <tr>\n",
       "      <th>4</th>\n",
       "      <td>2012-01-01</td>\n",
       "      <td>5765.7</td>\n",
       "      <td>63.7</td>\n",
       "      <td>200.7</td>\n",
       "      <td>15291.0</td>\n",
       "    </tr>\n",
       "    <tr>\n",
       "      <th>5</th>\n",
       "      <td>2012-04-01</td>\n",
       "      <td>5771.2</td>\n",
       "      <td>63.7</td>\n",
       "      <td>203.7</td>\n",
       "      <td>15362.4</td>\n",
       "    </tr>\n",
       "    <tr>\n",
       "      <th>6</th>\n",
       "      <td>2012-07-01</td>\n",
       "      <td>5745.4</td>\n",
       "      <td>63.7</td>\n",
       "      <td>200.1</td>\n",
       "      <td>15380.8</td>\n",
       "    </tr>\n",
       "    <tr>\n",
       "      <th>7</th>\n",
       "      <td>2012-10-01</td>\n",
       "      <td>5841.4</td>\n",
       "      <td>63.8</td>\n",
       "      <td>203.5</td>\n",
       "      <td>15384.3</td>\n",
       "    </tr>\n",
       "    <tr>\n",
       "      <th>8</th>\n",
       "      <td>2013-01-01</td>\n",
       "      <td>5748.0</td>\n",
       "      <td>63.6</td>\n",
       "      <td>202.5</td>\n",
       "      <td>15491.9</td>\n",
       "    </tr>\n",
       "    <tr>\n",
       "      <th>9</th>\n",
       "      <td>2013-04-01</td>\n",
       "      <td>5756.8</td>\n",
       "      <td>63.4</td>\n",
       "      <td>203.5</td>\n",
       "      <td>15521.6</td>\n",
       "    </tr>\n",
       "  </tbody>\n",
       "</table>\n",
       "</div>"
      ],
      "text/plain": [
       "         date  total_expenditures  ...  producer_price_index  gross_domestic_product\n",
       "0  2011-01-01              5766.7  ...                 192.7                 14881.3\n",
       "1  2011-04-01              5870.8  ...                 203.1                 14989.6\n",
       "2  2011-07-01              5802.6  ...                 204.6                 15021.1\n",
       "3  2011-10-01              5812.9  ...                 201.1                 15190.3\n",
       "4  2012-01-01              5765.7  ...                 200.7                 15291.0\n",
       "5  2012-04-01              5771.2  ...                 203.7                 15362.4\n",
       "6  2012-07-01              5745.4  ...                 200.1                 15380.8\n",
       "7  2012-10-01              5841.4  ...                 203.5                 15384.3\n",
       "8  2013-01-01              5748.0  ...                 202.5                 15491.9\n",
       "9  2013-04-01              5756.8  ...                 203.5                 15521.6\n",
       "\n",
       "[10 rows x 5 columns]"
      ]
     },
     "execution_count": 10,
     "metadata": {},
     "output_type": "execute_result"
    }
   ],
   "source": [
    "gdp.head(10)"
   ]
  },
  {
   "cell_type": "markdown",
   "metadata": {},
   "source": [
    "#### Exploratory Data Analysis : Figure out the best predictors for our dependent variables\n",
    "\n",
    "    * Plotting\n",
    "    * Descriptive Stats\n",
    "    \n",
    "    \n",
    "##### OLS : Ordinary Least Squares : statistical method that helps estimate the relationship between independent and dependent variables by minimising the sum of squares in difference between observed and predicted values"
   ]
  },
  {
   "cell_type": "markdown",
   "metadata": {},
   "source": [
    "##### OLS or Linear Regression Assumptions\n",
    "\n",
    "1. Linearity :\n",
    "    * dependent and independent variables have linear relationship\n",
    "    \n",
    "    \n",
    "2. No Multicollinearity\n",
    "    * independent variables are not correlated with each other.\n",
    "    * if predictors are highly correlated, then removing them shouldn't drastically reduce adjusted R-squared\n",
    "    \n",
    "    \n",
    "3. Zero Conditional Mean\n",
    "    * Average of distances i.e. residuals between observations and trend line is zero\n",
    "    \n",
    "    \n",
    "4. Homoskedasticity\n",
    "    * Variance is constant\n",
    "    * No pattern in residuals\n",
    "    \n",
    "    \n",
    "5. No Autocorrelation\n",
    "    * Autocorrelation is a variable correlated to itself across observations."
   ]
  },
  {
   "cell_type": "markdown",
   "metadata": {},
   "source": [
    "# Largest\n",
    "## Smaller\n",
    "### Even Smaller\n",
    "#### Penultimate Smallest\n",
    "##### Smallest with Italics"
   ]
  },
  {
   "cell_type": "code",
   "execution_count": 12,
   "metadata": {},
   "outputs": [
    {
     "name": "stdout",
     "output_type": "stream",
     "text": [
      "<class 'pandas.core.frame.DataFrame'>\n",
      "Int64Index: 23 entries, 0 to 22\n",
      "Data columns (total 16 columns):\n",
      " #   Column                          Non-Null Count  Dtype  \n",
      "---  ------                          --------------  -----  \n",
      " 0   date                            23 non-null     object \n",
      " 1   sp500                           23 non-null     float64\n",
      " 2   consumer_price_index            23 non-null     float64\n",
      " 3   long_interest_rate              23 non-null     float64\n",
      " 4   housing_price_index             23 non-null     float64\n",
      " 5   total_unemployed                23 non-null     float64\n",
      " 6   more_than_15_weeks              23 non-null     int64  \n",
      " 7   not_in_labor_searched_for_work  23 non-null     int64  \n",
      " 8   multi_jobs                      23 non-null     int64  \n",
      " 9   leavers                         23 non-null     float64\n",
      " 10  losers                          23 non-null     float64\n",
      " 11  federal_funds_rate              23 non-null     float64\n",
      " 12  total_expenditures              23 non-null     float64\n",
      " 13  labor_force_pr                  23 non-null     float64\n",
      " 14  producer_price_index            23 non-null     float64\n",
      " 15  gross_domestic_product          23 non-null     float64\n",
      "dtypes: float64(12), int64(3), object(1)\n",
      "memory usage: 3.1+ KB\n"
     ]
    }
   ],
   "source": [
    "df.info()"
   ]
  },
  {
   "cell_type": "markdown",
   "metadata": {},
   "source": [
    "### Simple Linear Regression with 1 predictor and 1 target variable"
   ]
  },
  {
   "cell_type": "code",
   "execution_count": 13,
   "metadata": {},
   "outputs": [
    {
     "data": {
      "text/plain": [
       "Index(['date', 'sp500', 'consumer_price_index', 'long_interest_rate',\n",
       "       'housing_price_index', 'total_unemployed', 'more_than_15_weeks',\n",
       "       'not_in_labor_searched_for_work', 'multi_jobs', 'leavers', 'losers',\n",
       "       'federal_funds_rate', 'total_expenditures', 'labor_force_pr',\n",
       "       'producer_price_index', 'gross_domestic_product'],\n",
       "      dtype='object')"
      ]
     },
     "execution_count": 13,
     "metadata": {},
     "output_type": "execute_result"
    }
   ],
   "source": [
    "df.columns"
   ]
  },
  {
   "cell_type": "code",
   "execution_count": 14,
   "metadata": {},
   "outputs": [],
   "source": [
    "housing_model = ols('housing_price_index ~ total_unemployed',data=df).fit()\n",
    "\n",
    "housing_model_summary = housing_model.summary()"
   ]
  },
  {
   "cell_type": "code",
   "execution_count": 15,
   "metadata": {},
   "outputs": [
    {
     "data": {
      "text/html": [
       "<table class=\"simpletable\">\n",
       "<caption>OLS Regression Results</caption>\n",
       "<tr>\n",
       "  <th>Dep. Variable:</th>    <td>housing_price_index</td> <th>  R-squared:         </th> <td>   0.952</td>\n",
       "</tr>\n",
       "<tr>\n",
       "  <th>Model:</th>                    <td>OLS</td>         <th>  Adj. R-squared:    </th> <td>   0.949</td>\n",
       "</tr>\n",
       "<tr>\n",
       "  <th>Method:</th>              <td>Least Squares</td>    <th>  F-statistic:       </th> <td>   413.2</td>\n",
       "</tr>\n",
       "<tr>\n",
       "  <th>Date:</th>              <td>Sat, 07 Nov 2020</td>   <th>  Prob (F-statistic):</th> <td>2.71e-15</td>\n",
       "</tr>\n",
       "<tr>\n",
       "  <th>Time:</th>                  <td>22:26:45</td>       <th>  Log-Likelihood:    </th> <td> -65.450</td>\n",
       "</tr>\n",
       "<tr>\n",
       "  <th>No. Observations:</th>       <td>    23</td>        <th>  AIC:               </th> <td>   134.9</td>\n",
       "</tr>\n",
       "<tr>\n",
       "  <th>Df Residuals:</th>           <td>    21</td>        <th>  BIC:               </th> <td>   137.2</td>\n",
       "</tr>\n",
       "<tr>\n",
       "  <th>Df Model:</th>               <td>     1</td>        <th>                     </th>     <td> </td>   \n",
       "</tr>\n",
       "<tr>\n",
       "  <th>Covariance Type:</th>       <td>nonrobust</td>      <th>                     </th>     <td> </td>   \n",
       "</tr>\n",
       "</table>\n",
       "<table class=\"simpletable\">\n",
       "<tr>\n",
       "          <td></td>            <th>coef</th>     <th>std err</th>      <th>t</th>      <th>P>|t|</th>  <th>[0.025</th>    <th>0.975]</th>  \n",
       "</tr>\n",
       "<tr>\n",
       "  <th>Intercept</th>        <td>  313.3128</td> <td>    5.408</td> <td>   57.938</td> <td> 0.000</td> <td>  302.067</td> <td>  324.559</td>\n",
       "</tr>\n",
       "<tr>\n",
       "  <th>total_unemployed</th> <td>   -8.3324</td> <td>    0.410</td> <td>  -20.327</td> <td> 0.000</td> <td>   -9.185</td> <td>   -7.480</td>\n",
       "</tr>\n",
       "</table>\n",
       "<table class=\"simpletable\">\n",
       "<tr>\n",
       "  <th>Omnibus:</th>       <td> 0.492</td> <th>  Durbin-Watson:     </th> <td>   1.126</td>\n",
       "</tr>\n",
       "<tr>\n",
       "  <th>Prob(Omnibus):</th> <td> 0.782</td> <th>  Jarque-Bera (JB):  </th> <td>   0.552</td>\n",
       "</tr>\n",
       "<tr>\n",
       "  <th>Skew:</th>          <td> 0.294</td> <th>  Prob(JB):          </th> <td>   0.759</td>\n",
       "</tr>\n",
       "<tr>\n",
       "  <th>Kurtosis:</th>      <td> 2.521</td> <th>  Cond. No.          </th> <td>    78.9</td>\n",
       "</tr>\n",
       "</table><br/><br/>Warnings:<br/>[1] Standard Errors assume that the covariance matrix of the errors is correctly specified."
      ],
      "text/plain": [
       "<class 'statsmodels.iolib.summary.Summary'>\n",
       "\"\"\"\n",
       "                             OLS Regression Results                            \n",
       "===============================================================================\n",
       "Dep. Variable:     housing_price_index   R-squared:                       0.952\n",
       "Model:                             OLS   Adj. R-squared:                  0.949\n",
       "Method:                  Least Squares   F-statistic:                     413.2\n",
       "Date:                 Sat, 07 Nov 2020   Prob (F-statistic):           2.71e-15\n",
       "Time:                         22:26:45   Log-Likelihood:                -65.450\n",
       "No. Observations:                   23   AIC:                             134.9\n",
       "Df Residuals:                       21   BIC:                             137.2\n",
       "Df Model:                            1                                         \n",
       "Covariance Type:             nonrobust                                         \n",
       "====================================================================================\n",
       "                       coef    std err          t      P>|t|      [0.025      0.975]\n",
       "------------------------------------------------------------------------------------\n",
       "Intercept          313.3128      5.408     57.938      0.000     302.067     324.559\n",
       "total_unemployed    -8.3324      0.410    -20.327      0.000      -9.185      -7.480\n",
       "==============================================================================\n",
       "Omnibus:                        0.492   Durbin-Watson:                   1.126\n",
       "Prob(Omnibus):                  0.782   Jarque-Bera (JB):                0.552\n",
       "Skew:                           0.294   Prob(JB):                        0.759\n",
       "Kurtosis:                       2.521   Cond. No.                         78.9\n",
       "==============================================================================\n",
       "\n",
       "Warnings:\n",
       "[1] Standard Errors assume that the covariance matrix of the errors is correctly specified.\n",
       "\"\"\""
      ]
     },
     "execution_count": 15,
     "metadata": {},
     "output_type": "execute_result"
    }
   ],
   "source": [
    "housing_model_summary    "
   ]
  },
  {
   "cell_type": "markdown",
   "metadata": {},
   "source": [
    "### Accuracy Metrics\n",
    "\n",
    "* RMSE - Lower the better\n",
    "\n",
    "\n",
    "* R-Squared - Higher the better - proportion of variance of a dependent variable explained by an independent variable.\n",
    "\n",
    "\n",
    "* Adj R-Squared - this metrics compensates the addition of variables. It will increase by addition of significant variables and decrease by addition of insignificant variables. Adj R-Squared <= R-squared\n",
    "    \n",
    "    \n",
    "    * "
   ]
  },
  {
   "cell_type": "code",
   "execution_count": null,
   "metadata": {},
   "outputs": [],
   "source": []
  },
  {
   "cell_type": "code",
   "execution_count": null,
   "metadata": {},
   "outputs": [],
   "source": []
  },
  {
   "cell_type": "code",
   "execution_count": null,
   "metadata": {},
   "outputs": [],
   "source": []
  },
  {
   "cell_type": "code",
   "execution_count": null,
   "metadata": {},
   "outputs": [],
   "source": []
  },
  {
   "cell_type": "code",
   "execution_count": null,
   "metadata": {},
   "outputs": [],
   "source": []
  }
 ],
 "metadata": {
  "kernelspec": {
   "display_name": "Python 3",
   "language": "python",
   "name": "python3"
  },
  "language_info": {
   "codemirror_mode": {
    "name": "ipython",
    "version": 3
   },
   "file_extension": ".py",
   "mimetype": "text/x-python",
   "name": "python",
   "nbconvert_exporter": "python",
   "pygments_lexer": "ipython3",
   "version": "3.8.3"
  }
 },
 "nbformat": 4,
 "nbformat_minor": 4
}
