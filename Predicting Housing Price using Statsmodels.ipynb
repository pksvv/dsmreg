{
 "cells": [
  {
   "cell_type": "markdown",
   "metadata": {},
   "source": [
    "**Linear Regression : is a model that predicts relationship of direct proportionality between dependent and predictor variables.**"
   ]
  },
  {
   "cell_type": "markdown",
   "metadata": {},
   "source": [
    "<img src=\"img/1.png\">"
   ]
  },
  {
   "cell_type": "markdown",
   "metadata": {},
   "source": [
    "#### Dataset\n",
    "\n",
    "##### Source : FRED (https://fred.stlouisfed.org/)\n",
    "\n",
    "* Target Variable : HPI or Housing Price Index \n",
    "    * It measures the prices changes of residential housing\n",
    "\n",
    "* Predictor Variables\n",
    "    * GDP\n",
    "    * Unemployment\n",
    "    * Interest Rates"
   ]
  },
  {
   "cell_type": "markdown",
   "metadata": {},
   "source": [
    "!pip install statsmodels"
   ]
  },
  {
   "cell_type": "markdown",
   "metadata": {},
   "source": [
    "#### Importing Libraries"
   ]
  },
  {
   "cell_type": "code",
   "execution_count": 2,
   "metadata": {},
   "outputs": [
    {
     "name": "stderr",
     "output_type": "stream",
     "text": [
      "<frozen importlib._bootstrap>:219: RuntimeWarning: numpy.ufunc size changed, may indicate binary incompatibility. Expected 192 from C header, got 216 from PyObject\n"
     ]
    }
   ],
   "source": [
    "import pandas as pd\n",
    "import numpy as np\n",
    "import matplotlib.pyplot as plt\n",
    "import seaborn as sns\n",
    "\n",
    "import statsmodels.api as sm\n",
    "from statsmodels.formula.api import ols\n",
    "from statsmodels.sandbox.regression.predstd import wls_prediction_std\n",
    "\n",
    "sns.set_style('darkgrid')\n",
    "%matplotlib inline"
   ]
  },
  {
   "cell_type": "markdown",
   "metadata": {},
   "source": [
    "#### Import Data"
   ]
  },
  {
   "cell_type": "code",
   "execution_count": 3,
   "metadata": {},
   "outputs": [],
   "source": [
    "hpi = pd.read_csv('dataset/monthly-hpi.csv')\n",
    "uemp = pd.read_csv('dataset/unemployment-macro.csv')\n",
    "ffr = pd.read_csv('dataset/fed_funds.csv')\n",
    "shiller = pd.read_csv('dataset/shiller.csv')\n",
    "gdp = pd.read_csv('dataset/gdp.csv')"
   ]
  },
  {
   "cell_type": "code",
   "execution_count": 4,
   "metadata": {},
   "outputs": [],
   "source": [
    "df = (shiller.merge(hpi,on='date')\n",
    "      .merge(uemp,on='date')\n",
    "      .merge(ffr,on='date')\n",
    "      .merge(gdp,on='date'))"
   ]
  },
  {
   "cell_type": "code",
   "execution_count": 10,
   "metadata": {
    "scrolled": true
   },
   "outputs": [
    {
     "data": {
      "text/html": [
       "<div>\n",
       "<style scoped>\n",
       "    .dataframe tbody tr th:only-of-type {\n",
       "        vertical-align: middle;\n",
       "    }\n",
       "\n",
       "    .dataframe tbody tr th {\n",
       "        vertical-align: top;\n",
       "    }\n",
       "\n",
       "    .dataframe thead th {\n",
       "        text-align: right;\n",
       "    }\n",
       "</style>\n",
       "<table border=\"1\" class=\"dataframe\">\n",
       "  <thead>\n",
       "    <tr style=\"text-align: right;\">\n",
       "      <th></th>\n",
       "      <th>date</th>\n",
       "      <th>total_expenditures</th>\n",
       "      <th>labor_force_pr</th>\n",
       "      <th>producer_price_index</th>\n",
       "      <th>gross_domestic_product</th>\n",
       "    </tr>\n",
       "  </thead>\n",
       "  <tbody>\n",
       "    <tr>\n",
       "      <th>0</th>\n",
       "      <td>2011-01-01</td>\n",
       "      <td>5766.7</td>\n",
       "      <td>64.2</td>\n",
       "      <td>192.7</td>\n",
       "      <td>14881.3</td>\n",
       "    </tr>\n",
       "    <tr>\n",
       "      <th>1</th>\n",
       "      <td>2011-04-01</td>\n",
       "      <td>5870.8</td>\n",
       "      <td>64.2</td>\n",
       "      <td>203.1</td>\n",
       "      <td>14989.6</td>\n",
       "    </tr>\n",
       "    <tr>\n",
       "      <th>2</th>\n",
       "      <td>2011-07-01</td>\n",
       "      <td>5802.6</td>\n",
       "      <td>64.0</td>\n",
       "      <td>204.6</td>\n",
       "      <td>15021.1</td>\n",
       "    </tr>\n",
       "    <tr>\n",
       "      <th>3</th>\n",
       "      <td>2011-10-01</td>\n",
       "      <td>5812.9</td>\n",
       "      <td>64.1</td>\n",
       "      <td>201.1</td>\n",
       "      <td>15190.3</td>\n",
       "    </tr>\n",
       "    <tr>\n",
       "      <th>4</th>\n",
       "      <td>2012-01-01</td>\n",
       "      <td>5765.7</td>\n",
       "      <td>63.7</td>\n",
       "      <td>200.7</td>\n",
       "      <td>15291.0</td>\n",
       "    </tr>\n",
       "    <tr>\n",
       "      <th>5</th>\n",
       "      <td>2012-04-01</td>\n",
       "      <td>5771.2</td>\n",
       "      <td>63.7</td>\n",
       "      <td>203.7</td>\n",
       "      <td>15362.4</td>\n",
       "    </tr>\n",
       "    <tr>\n",
       "      <th>6</th>\n",
       "      <td>2012-07-01</td>\n",
       "      <td>5745.4</td>\n",
       "      <td>63.7</td>\n",
       "      <td>200.1</td>\n",
       "      <td>15380.8</td>\n",
       "    </tr>\n",
       "    <tr>\n",
       "      <th>7</th>\n",
       "      <td>2012-10-01</td>\n",
       "      <td>5841.4</td>\n",
       "      <td>63.8</td>\n",
       "      <td>203.5</td>\n",
       "      <td>15384.3</td>\n",
       "    </tr>\n",
       "    <tr>\n",
       "      <th>8</th>\n",
       "      <td>2013-01-01</td>\n",
       "      <td>5748.0</td>\n",
       "      <td>63.6</td>\n",
       "      <td>202.5</td>\n",
       "      <td>15491.9</td>\n",
       "    </tr>\n",
       "    <tr>\n",
       "      <th>9</th>\n",
       "      <td>2013-04-01</td>\n",
       "      <td>5756.8</td>\n",
       "      <td>63.4</td>\n",
       "      <td>203.5</td>\n",
       "      <td>15521.6</td>\n",
       "    </tr>\n",
       "  </tbody>\n",
       "</table>\n",
       "</div>"
      ],
      "text/plain": [
       "         date  total_expenditures  ...  producer_price_index  gross_domestic_product\n",
       "0  2011-01-01              5766.7  ...                 192.7                 14881.3\n",
       "1  2011-04-01              5870.8  ...                 203.1                 14989.6\n",
       "2  2011-07-01              5802.6  ...                 204.6                 15021.1\n",
       "3  2011-10-01              5812.9  ...                 201.1                 15190.3\n",
       "4  2012-01-01              5765.7  ...                 200.7                 15291.0\n",
       "5  2012-04-01              5771.2  ...                 203.7                 15362.4\n",
       "6  2012-07-01              5745.4  ...                 200.1                 15380.8\n",
       "7  2012-10-01              5841.4  ...                 203.5                 15384.3\n",
       "8  2013-01-01              5748.0  ...                 202.5                 15491.9\n",
       "9  2013-04-01              5756.8  ...                 203.5                 15521.6\n",
       "\n",
       "[10 rows x 5 columns]"
      ]
     },
     "execution_count": 10,
     "metadata": {},
     "output_type": "execute_result"
    }
   ],
   "source": [
    "gdp.head(10)"
   ]
  },
  {
   "cell_type": "markdown",
   "metadata": {},
   "source": [
    "#### Exploratory Data Analysis : Figure out the best predictors for our dependent variables\n",
    "\n",
    "    * Plotting\n",
    "    * Descriptive Stats\n",
    "    \n",
    "    \n",
    "##### OLS : Ordinary Least Squares : statistical method that helps estimate the relationship between independent and dependent variables by minimising the sum of squares in difference between observed and predicted values"
   ]
  },
  {
   "cell_type": "markdown",
   "metadata": {},
   "source": [
    "##### OLS or Linear Regression Assumptions\n",
    "\n",
    "1. Linearity :\n",
    "    * dependent and independent variables have linear relationship\n",
    "    \n",
    "    \n",
    "2. No Multicollinearity\n",
    "    * independent variables are not correlated with each other.\n",
    "    * if predictors are highly correlated, then removing them shouldn't drastically reduce adjusted R-squared\n",
    "    \n",
    "    \n",
    "3. Zero Conditional Mean\n",
    "    * Average of distances i.e. residuals between observations and trend line is zero\n",
    "    \n",
    "    \n",
    "4. Homoskedasticity\n",
    "    * Variance is constant\n",
    "    * No pattern in residuals\n",
    "    \n",
    "    \n",
    "5. No Autocorrelation\n",
    "    * Autocorrelation is a variable correlated to itself across observations."
   ]
  },
  {
   "cell_type": "code",
   "execution_count": null,
   "metadata": {},
   "outputs": [],
   "source": []
  },
  {
   "cell_type": "code",
   "execution_count": null,
   "metadata": {},
   "outputs": [],
   "source": []
  },
  {
   "cell_type": "code",
   "execution_count": null,
   "metadata": {},
   "outputs": [],
   "source": []
  },
  {
   "cell_type": "code",
   "execution_count": null,
   "metadata": {},
   "outputs": [],
   "source": []
  },
  {
   "cell_type": "code",
   "execution_count": null,
   "metadata": {},
   "outputs": [],
   "source": []
  },
  {
   "cell_type": "code",
   "execution_count": null,
   "metadata": {},
   "outputs": [],
   "source": []
  },
  {
   "cell_type": "code",
   "execution_count": null,
   "metadata": {},
   "outputs": [],
   "source": []
  },
  {
   "cell_type": "code",
   "execution_count": null,
   "metadata": {},
   "outputs": [],
   "source": []
  },
  {
   "cell_type": "code",
   "execution_count": null,
   "metadata": {},
   "outputs": [],
   "source": []
  },
  {
   "cell_type": "code",
   "execution_count": null,
   "metadata": {},
   "outputs": [],
   "source": []
  },
  {
   "cell_type": "code",
   "execution_count": null,
   "metadata": {},
   "outputs": [],
   "source": []
  },
  {
   "cell_type": "code",
   "execution_count": null,
   "metadata": {},
   "outputs": [],
   "source": []
  },
  {
   "cell_type": "code",
   "execution_count": null,
   "metadata": {},
   "outputs": [],
   "source": []
  }
 ],
 "metadata": {
  "kernelspec": {
   "display_name": "Python 3",
   "language": "python",
   "name": "python3"
  },
  "language_info": {
   "codemirror_mode": {
    "name": "ipython",
    "version": 3
   },
   "file_extension": ".py",
   "mimetype": "text/x-python",
   "name": "python",
   "nbconvert_exporter": "python",
   "pygments_lexer": "ipython3",
   "version": "3.8.3"
  }
 },
 "nbformat": 4,
 "nbformat_minor": 4
}
